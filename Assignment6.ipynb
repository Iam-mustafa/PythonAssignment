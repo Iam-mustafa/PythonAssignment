{
 "cells": [
  {
   "cell_type": "markdown",
   "metadata": {},
   "source": [
    "# Q1. Define Object Oriented Progamming Language ?"
   ]
  },
  {
   "cell_type": "markdown",
   "metadata": {},
   "source": [
    "A1.Object-oriented programming (OOP) refers to a type of computer programming (software design) in which programmers define not only the data type of a data structure, but also the types of operations (functions) that can be applied to the data structure."
   ]
  },
  {
   "cell_type": "markdown",
   "metadata": {},
   "source": [
    "# Q2. List down the benifits of OOP ?"
   ]
  },
  {
   "cell_type": "markdown",
   "metadata": {},
   "source": [
    "Following are some of the benefits of OOP.\n",
    "\n",
    "1. Modularity for easier troubleshooting\n",
    "2. Reuse of code through inheritance\n",
    "3. Flexibility through polymorphism\n",
    "4. Effective problem solving"
   ]
  },
  {
   "cell_type": "markdown",
   "metadata": {},
   "source": [
    "# Q3. Differentiate between Function & Method ?"
   ]
  },
  {
   "cell_type": "markdown",
   "metadata": {},
   "source": [
    "A function is a piece of code that is called by name. It can be passed data to operate on (i.e. the parameters) and can optionally return data (the return value). All data that is passed to a function is explicitly passed.\n",
    "\n",
    "A method is a piece of code that is called by a name that is associated with an object. In most respects it is identical to a function except for two key differences:\n",
    "\n",
    "A method is implicitly passed the object on which it was called.\n",
    "A method is able to operate on data that is contained within the class (remembering that an object is an instance of a class - the class is the definition, the object is an instance of that data)."
   ]
  },
  {
   "cell_type": "markdown",
   "metadata": {},
   "source": [
    "# Q4.Define the following terms :"
   ]
  },
  {
   "cell_type": "markdown",
   "metadata": {},
   "source": [
    "Class : It is a blueprint for creating objects (a particular data structure), providing initial values for state (member variables or attributes), and implementations of behavior (member functions or methods).\n",
    "\n",
    "Object : They are the things you think about first in designing a program and they are also the units of code that are eventually derived from the process.\n",
    "\n",
    "Attribute : Attributes are data stored inside a class or instance and represent the state or quality of the class or instance. In short, attributes store information about the instance.\n",
    "\n",
    "Behaviour : A class's behavior determines how an instance of that class operates. Behavior is the only way objects can do anything to themselves or have anything done to them."
   ]
  },
  {
   "cell_type": "markdown",
   "metadata": {},
   "source": [
    "# Q5. Write a code in python creating a class named car which have 5 attributes such as (model, color & name etc.) and 3 methods also create 5 objects instances from that class."
   ]
  },
  {
   "cell_type": "code",
   "execution_count": 6,
   "metadata": {},
   "outputs": [
    {
     "name": "stdout",
     "output_type": "stream",
     "text": [
      "Cultus\n",
      "VXR\n",
      "Silver\n",
      "2019\n",
      "1000\n",
      "Suzuki\n",
      "Tokyo\n",
      "Japan \n",
      "\n",
      "Juke\n",
      "GU\n",
      "Black\n",
      "2019\n",
      "1300\n",
      "Nissan\n",
      "Barcelona\n",
      "Spain \n",
      "\n",
      "Corolla\n",
      "XLI\n",
      "Gray\n",
      "2020\n",
      "2000\n",
      "Toyota\n",
      "Abu Dhabi\n",
      "UAE \n",
      "\n",
      "City\n",
      "Aspire\n",
      "Red\n",
      "2017\n",
      "1500\n",
      "Honda\n",
      "Washington\n",
      "USA \n",
      "\n",
      "Corolla\n",
      "Altis\n",
      "Blue\n",
      "2018\n",
      "1350\n",
      "Toyota\n",
      "Beijing\n",
      "China\n"
     ]
    }
   ],
   "source": [
    "class car():\n",
    "    def __init__(car,name,model,color,year,CC):\n",
    "        car.name = name\n",
    "        car.model = model\n",
    "        car.color = color\n",
    "        car.year = year\n",
    "        car.CC = CC\n",
    "        car.co = \"Audi\"\n",
    "        car.city = \"Karachi\"\n",
    "        car.country = \"Pakisan\"\n",
    "    \n",
    "    def updateco_name(car,newname):\n",
    "        car.co = newname\n",
    "    def updatecity(car,newcity):\n",
    "        car.city = newcity\n",
    "    def updatecountry(car,newcountry):\n",
    "        car.country = newcountry\n",
    "    \n",
    "\n",
    "car0=car(\"Cultus\",\"VXR\",\"Silver\",2019,1000)\n",
    "print(car0.name)\n",
    "print(car0.model)\n",
    "print(car0.color)\n",
    "print(car0.year)\n",
    "print(car0.CC)\n",
    "car0.updateco_name(\"Suzuki\")\n",
    "car0.updatecity(\"Tokyo\")\n",
    "car0.updatecountry(\"Japan\")\n",
    "print(car0.co)\n",
    "print(car0.city)\n",
    "print(car0.country,\"\\n\")\n",
    "\n",
    "car1=car(\"Juke\",\"GU\",\"Black\",2019,1300)\n",
    "print(car1.name)\n",
    "print(car1.model)\n",
    "print(car1.color)\n",
    "print(car1.year)\n",
    "print(car1.CC)\n",
    "car1.updateco_name(\"Nissan\")\n",
    "car1.updatecity(\"Barcelona\")\n",
    "car1.updatecountry(\"Spain\")\n",
    "print(car1.co)\n",
    "print(car1.city)\n",
    "print(car1.country,\"\\n\")\n",
    "\n",
    "car2=car(\"Corolla\",\"XLI\",\"Gray\",2020,2000)\n",
    "print(car2.name)\n",
    "print(car2.model)\n",
    "print(car2.color)\n",
    "print(car2.year)\n",
    "print(car2.CC)\n",
    "car2.updateco_name(\"Toyota\")\n",
    "car2.updatecity(\"Abu Dhabi\")\n",
    "car2.updatecountry(\"UAE\")\n",
    "print(car2.co)\n",
    "print(car2.city)\n",
    "print(car2.country,\"\\n\")\n",
    "\n",
    "car3=car(\"City\",\"Aspire\",\"Red\",2017,1500)\n",
    "print(car3.name)\n",
    "print(car3.model)\n",
    "print(car3.color)\n",
    "print(car3.year)\n",
    "print(car3.CC)\n",
    "car3.updateco_name(\"Honda\")\n",
    "car3.updatecity(\"Washington\")\n",
    "car3.updatecountry(\"USA\")\n",
    "print(car3.co)\n",
    "print(car3.city)\n",
    "print(car3.country,\"\\n\")\n",
    "\n",
    "car4=car(\"Corolla\",\"Altis\",\"Blue\",2018,1350)\n",
    "print(car4.name)\n",
    "print(car4.model)\n",
    "print(car4.color)\n",
    "print(car4.year)\n",
    "print(car4.CC)\n",
    "car4.updateco_name(\"Toyota\")\n",
    "car4.updatecity(\"Beijing\")\n",
    "car4.updatecountry(\"China\")\n",
    "print(car4.co)\n",
    "print(car4.city)\n",
    "print(car4.country)\n"
   ]
  },
  {
   "cell_type": "code",
   "execution_count": null,
   "metadata": {},
   "outputs": [],
   "source": []
  }
 ],
 "metadata": {
  "kernelspec": {
   "display_name": "Python 3",
   "language": "python",
   "name": "python3"
  },
  "language_info": {
   "codemirror_mode": {
    "name": "ipython",
    "version": 3
   },
   "file_extension": ".py",
   "mimetype": "text/x-python",
   "name": "python",
   "nbconvert_exporter": "python",
   "pygments_lexer": "ipython3",
   "version": "3.7.1"
  }
 },
 "nbformat": 4,
 "nbformat_minor": 2
}
