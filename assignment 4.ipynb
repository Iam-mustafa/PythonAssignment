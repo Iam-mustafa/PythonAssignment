{
 "cells": [
  {
   "cell_type": "code",
   "execution_count": 4,
   "metadata": {},
   "outputs": [
    {
     "name": "stdout",
     "output_type": "stream",
     "text": [
      "{'first_name': 'Muhammad ', 'last_name': 'Mustafa', 'Age': 22, 'city': 'Karachi'}\n",
      "{'first_name': 'Muhammad ', 'last_name': 'Mustafa', 'Age': 22, 'city': 'Karachi', 'Qualification': 'BS(SE)'}\n",
      "{'first_name': 'Muhammad ', 'last_name': 'Mustafa', 'Age': 22, 'city': 'Karachi'}\n"
     ]
    }
   ],
   "source": [
    "Data = {\"first_name\":\"Muhammad \",\n",
    "        \"last_name\":\"Mustafa\",\n",
    "        \"Age\":22,\n",
    "        \"city\":\"Karachi\"}\n",
    "print(Data)\n",
    "Data[\"Qualification\"] = \"BS(SE)\"\n",
    "print(Data)\n",
    "del Data[\"Qualification\"]\n",
    "print(Data)\n"
   ]
  },
  {
   "cell_type": "code",
   "execution_count": 7,
   "metadata": {},
   "outputs": [
    {
     "name": "stdout",
     "output_type": "stream",
     "text": [
      "Karachi {'country': 'Pakistan', 'Population': '2 crores', 'fact': 'Largest city of Pakistan according to land'}\n",
      "Islamabad {'country': 'Pakistan', 'Population': '2 million', 'fact': 'Capital of Pakistan'}\n",
      "Lahore {'country': 'Pakistan', 'Population': '1.1 crores', 'fact': 'Known for Mughal monuments like Shahi castle and Badshahi Mosque'}\n"
     ]
    }
   ],
   "source": [
    "City = {\"Karachi\":{\"country\":\"Pakistan\",\"Population\":\"2 crores\",\"fact\":\"Largest city of Pakistan according to land\"},\n",
    "        \"Islamabad\":{\"country\":\"Pakistan\",\"Population\":\"2 million\",'fact':\"Capital of Pakistan\"},\n",
    "        \"Lahore\":{\"country\":\"Pakistan\",\"Population\":\"1.1 crores\",\"fact\":\"Known for Mughal monuments like Shahi castle and Badshahi Mosque\"}}\n",
    "for k,v in City.items():\n",
    "    print(k,v)\n"
   ]
  },
  {
   "cell_type": "code",
   "execution_count": 11,
   "metadata": {},
   "outputs": [
    {
     "name": "stdout",
     "output_type": "stream",
     "text": [
      "What is your age?:21\n",
      "Your ticket is $15\n"
     ]
    }
   ],
   "source": [
    "for i in range(3):\n",
    "    Age = int(input(\"What is your age?:\"))\n",
    "    if Age <=3:\n",
    "        print(\"Your ticket is free\")\n",
    "        break\n",
    "    elif Age >3 and Age <=12:\n",
    "        print(\"Your ticket is $10\")\n",
    "        break\n",
    "    elif Age > 12:\n",
    "        print(\"Your ticket is $15\")\n",
    "        break\n"
   ]
  },
  {
   "cell_type": "code",
   "execution_count": 12,
   "metadata": {},
   "outputs": [
    {
     "name": "stdout",
     "output_type": "stream",
     "text": [
      "Prisoners of Zenda is one of my favorite books.\n"
     ]
    }
   ],
   "source": [
    "def favorite_book(Title):\n",
    "    \n",
    "    print(Title + \" is one of my favorite books.\")\n",
    "\n",
    "favorite_book('Prisoners of Zenda')\n"
   ]
  },
  {
   "cell_type": "code",
   "execution_count": 13,
   "metadata": {},
   "outputs": [
    {
     "name": "stdout",
     "output_type": "stream",
     "text": [
      "                HINT              \n",
      "Try a number between 10 and 20\n",
      "Enter your guess: 2\n",
      "Your guess is wrong\n",
      "Better luck next time :-)\n",
      "Enter your guess: 12\n",
      "Your guess is wrong\n",
      "Better luck next time :-)\n",
      "Enter your guess: 20\n",
      "Your guess is wrong\n",
      "Better luck next time :-)\n"
     ]
    }
   ],
   "source": [
    "import random\n",
    "random=random.randint(1,30)\n",
    "print(\"                HINT              \")\n",
    "if random>= 1 and random < 10:\n",
    "    print(\"Try a number between 1 and 10\")\n",
    "elif random>= 10 and random< 20:\n",
    "    print(\"Try a number between 10 and 20\")\n",
    "elif random>= 20 and random< 30:\n",
    "    print(\"Try a number between 20 and 30\")\n",
    "for i in range(0,3):\n",
    "    user = int(input(\"Enter your guess: \"))\n",
    "    if user < 1 or user > 30:\n",
    "        print(\"Choose a number between 1 and 30\")\n",
    "    else:\n",
    "        if user == random:\n",
    "            print(\"Your guess is right\")\n",
    "            break\n",
    "        else:\n",
    "            print(\"Your guess is wrong\")\n",
    "            print(\"Better luck next time :-)\")\n"
   ]
  },
  {
   "cell_type": "code",
   "execution_count": null,
   "metadata": {},
   "outputs": [],
   "source": []
  }
 ],
 "metadata": {
  "kernelspec": {
   "display_name": "Python 3",
   "language": "python",
   "name": "python3"
  },
  "language_info": {
   "codemirror_mode": {
    "name": "ipython",
    "version": 3
   },
   "file_extension": ".py",
   "mimetype": "text/x-python",
   "name": "python",
   "nbconvert_exporter": "python",
   "pygments_lexer": "ipython3",
   "version": "3.7.4"
  }
 },
 "nbformat": 4,
 "nbformat_minor": 2
}
