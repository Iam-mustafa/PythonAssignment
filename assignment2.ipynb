{
 "cells": [
  {
   "cell_type": "code",
   "execution_count": 1,
   "metadata": {},
   "outputs": [
    {
     "name": "stdout",
     "output_type": "stream",
     "text": [
      "SUBJECT                            TOTAL MARKS                    OBTAINED MARKS \n"
     ]
    },
    {
     "name": "stdin",
     "output_type": "stream",
     "text": [
      "Mathematics                           100                                92\n",
      "Physics                               100                                85\n",
      "Chemistry                             100                                75\n",
      "Urdu                                  100                                59\n",
      "English                               100                                65\n"
     ]
    },
    {
     "name": "stdout",
     "output_type": "stream",
     "text": [
      "Total                                 500                               376\n",
      "                                                                                                              \n",
      "percentage :  75.2 %\n",
      "GRADE =  A\n"
     ]
    }
   ],
   "source": [
    " 1 \n",
    "print(\"SUBJECT                            TOTAL MARKS                    OBTAINED MARKS \")\n",
    "\n",
    "math = float(input(\"Mathematics                           100                               \"))\n",
    "phy = float(input(\"Physics                               100                               \"))\n",
    "eng = float(input(\"Chemistry                             100                               \"))\n",
    "urdu = float(input(\"Urdu                                  100                               \"))\n",
    "isl = float(input(\"English                               100                               \"))\n",
    "\n",
    "\n",
    "total_marks = 500\n",
    "obt_marks = int(math + phy + eng + urdu + isl)\n",
    "\n",
    "percentage = obt_marks / total_marks * 100 \n",
    "\n",
    "if percentage > 79:\n",
    "  grade = \"A1\"\n",
    "elif percentage > 69 and percentage < 79:\n",
    "  grade = \"A\"\n",
    "elif percentage > 59 and percentage < 69:\n",
    "  grade = \"B\"\n",
    "elif percentage > 49 and percentage < 59:\n",
    "  grade = \"C\"\n",
    "elif percentage > 39 and percentage < 49:\n",
    "  grade = \"D\"\n",
    "elif percentage < 39:\n",
    "  grade = \"NO GRADE FAILED!\" \n",
    "elif percentage > 100:\n",
    "  grade = \"ERROR 404\"\n",
    "else:\n",
    "  print(\"something went wrong please try again later\")  \n",
    "  \n",
    "print(\"Total                                \" , total_marks , \"                             \" , obt_marks)\n",
    "print(\"                                                                                                              \")\n",
    "print(\"percentage : \" , percentage , \"%\")\n",
    "print(\"GRADE = \" , grade)\n"
   ]
  },
  {
   "cell_type": "code",
   "execution_count": 2,
   "metadata": {},
   "outputs": [
    {
     "name": "stdin",
     "output_type": "stream",
     "text": [
      "Enter Number:  6\n"
     ]
    },
    {
     "name": "stdout",
     "output_type": "stream",
     "text": [
      "6 is Even\n"
     ]
    }
   ],
   "source": [
    "num = int(input(\"Enter Number: \"))\n",
    "\n",
    "if num % 2 == 0:\n",
    "    print(num , \"is Even\")\n",
    "else:\n",
    "    print(num , \"is Odd\")\n"
   ]
  },
  {
   "cell_type": "code",
   "execution_count": 7,
   "metadata": {},
   "outputs": [
    {
     "name": "stdout",
     "output_type": "stream",
     "text": [
      "Lenght of the list is : 8\n"
     ]
    }
   ],
   "source": [
    "list1 = [\"Berlin\" , \"Tokyo\" , \"Denver\" , \"Rio\" , \"Nairobi\" , \"Moscow\", \"Helsinki\", \"Oslo\"]\n",
    "print(\"Lenght of the list is :\" , len(list1))"
   ]
  },
  {
   "cell_type": "code",
   "execution_count": 8,
   "metadata": {},
   "outputs": [
    {
     "name": "stdout",
     "output_type": "stream",
     "text": [
      "Sum of all elements in given list is:  75\n"
     ]
    }
   ],
   "source": [
    "total = 0\n",
    "list1 = [21 , 34 , 10 , 3 , 7]    \n",
    "for element in range(0, len(list1)): \n",
    "    total = total + list1[element]   \n",
    "print(\"Sum of all elements in given list is: \", total)"
   ]
  },
  {
   "cell_type": "code",
   "execution_count": 11,
   "metadata": {},
   "outputs": [
    {
     "name": "stdout",
     "output_type": "stream",
     "text": [
      "Largest element in the list is: 222\n"
     ]
    }
   ],
   "source": [
    "list1 = [26, 29 , 45 , 222 , 110 , 55 , 69] \n",
    "list1.sort()   \n",
    "print(\"Largest element in the list is:\", list1[-1])\n"
   ]
  },
  {
   "cell_type": "code",
   "execution_count": 12,
   "metadata": {},
   "outputs": [
    {
     "name": "stdout",
     "output_type": "stream",
     "text": [
      "[8, 13, 21, 34, 55, 89]\n"
     ]
    }
   ],
   "source": [
    "\n",
    "a = [1, 1, 2, 3, 5, 8, 13, 21, 34, 55, 89]\n",
    "b = []\n",
    "for elem in a:\n",
    "  if elem > 5:\n",
    "    b.append(elem)\n",
    "print(b)\n"
   ]
  },
  {
   "cell_type": "code",
   "execution_count": null,
   "metadata": {},
   "outputs": [],
   "source": []
  }
 ],
 "metadata": {
  "kernelspec": {
   "display_name": "Python 3",
   "language": "python",
   "name": "python3"
  },
  "language_info": {
   "codemirror_mode": {
    "name": "ipython",
    "version": 3
   },
   "file_extension": ".py",
   "mimetype": "text/x-python",
   "name": "python",
   "nbconvert_exporter": "python",
   "pygments_lexer": "ipython3",
   "version": "3.7.4"
  }
 },
 "nbformat": 4,
 "nbformat_minor": 4
}
