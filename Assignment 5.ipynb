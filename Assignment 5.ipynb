{
 "cells": [
  {
   "cell_type": "code",
   "execution_count": 7,
   "metadata": {},
   "outputs": [
    {
     "name": "stdout",
     "output_type": "stream",
     "text": [
      "Insert a number to calculate its factorial: 5\n",
      "Calculated factorial is:  120\n"
     ]
    }
   ],
   "source": [
    "#Question no:1\n",
    "def factorial(fct):\n",
    "    res=1\n",
    "    while fct !=0:\n",
    "        res *=fct\n",
    "        fct = fct-1\n",
    "    \n",
    "    print(\"Calculated factorial is: \",res)\n",
    "\n",
    "fact = int(input(\"Insert a number to calculate its factorial: \"))\n",
    "factorial(fact)"
   ]
  },
  {
   "cell_type": "code",
   "execution_count": 13,
   "metadata": {},
   "outputs": [
    {
     "name": "stdout",
     "output_type": "stream",
     "text": [
      "Enter any string :XeLOnzhLx\n",
      "Entered string is: XeLOnzhLx\n",
      "In which uppercase letter are: 4\n",
      "and lowercase letter : 5\n"
     ]
    }
   ],
   "source": [
    "#Question no:2\n",
    "def calculate_str(string):\n",
    "    upper_count = 0\n",
    "    lower_count = 0\n",
    "    \n",
    "    for a in string:\n",
    "        if a.isupper():\n",
    "            upper_count +=1\n",
    "        elif a.islower():\n",
    "            lower_count +=1\n",
    "        else:\n",
    "            pass\n",
    "    print(\"Entered string is:\",string)\n",
    "    print(\"In which uppercase letter are:\", upper_count)\n",
    "    print(\"and lowercase letter :\", lower_count)\n",
    "        \n",
    "input_string = input(\"Enter any string :\")\n",
    "calculate_str(input_string)"
   ]
  },
  {
   "cell_type": "code",
   "execution_count": 18,
   "metadata": {},
   "outputs": [
    {
     "name": "stdout",
     "output_type": "stream",
     "text": [
      "[2, 4, 6, 8, 10]\n"
     ]
    }
   ],
   "source": [
    "#Question3\n",
    "def even_no(num):\n",
    "    even =[]\n",
    "    for e in num:\n",
    "        if e % 2 ==0:\n",
    "            even.append(e)\n",
    "    return even\n",
    "\n",
    "list=[1,2,3,4,5,6,7,8,9,10]\n",
    "print(even_no(list1))"
   ]
  },
  {
   "cell_type": "code",
   "execution_count": 21,
   "metadata": {},
   "outputs": [
    {
     "name": "stdout",
     "output_type": "stream",
     "text": [
      "Enter a word or sentence to check it is palindrome or not :did\n",
      "your entered word/sentence is Palindrome : did\n"
     ]
    }
   ],
   "source": [
    "#Question no:4\n",
    "word_input =input(\"Enter a word or sentence to check it is palindrome or not :\")\n",
    "\n",
    "def palindrome(word):\n",
    "    palindrome = (word[::-1])\n",
    "    if word == palindrome:\n",
    "        print(\"your entered word/sentence is Palindrome :\",palindrome)\n",
    "    else:\n",
    "        print(\"Your entered word/sentence is not palindrome\")\n",
    "palindrome(word_input)"
   ]
  },
  {
   "cell_type": "code",
   "execution_count": 25,
   "metadata": {},
   "outputs": [
    {
     "name": "stdout",
     "output_type": "stream",
     "text": [
      "Enter a number:9\n",
      "9 is not a prime number\n"
     ]
    }
   ],
   "source": [
    "#Question no:5\n",
    "number = int(input(\"Enter a number:\"))\n",
    "def prime(num):\n",
    "    prime=0\n",
    "    i=2\n",
    "    while i<num:\n",
    "        if num % i ==0:\n",
    "            prime = prime+1\n",
    "        i = i+1\n",
    "    if prime>0:\n",
    "        print(str(num) + \" \" + \"is not a prime number\")\n",
    "    else:\n",
    "        print(str(num) +\" \"+ \"is a prime number\")\n",
    "        \n",
    "\n",
    "prime(number)"
   ]
  },
  {
   "cell_type": "code",
   "execution_count": 29,
   "metadata": {},
   "outputs": [
    {
     "name": "stdout",
     "output_type": "stream",
     "text": [
      "Customer bought: Potaoes: 1 KG\n",
      "Customer bought: Sugar: 500 g\n",
      "Customer bought: Bananas: 1 Dozen\n",
      "Customer bought: Milk 1: litre\n"
     ]
    }
   ],
   "source": [
    "#Question no:6\n",
    "def brought_items(*items):\n",
    "    for item in items:\n",
    "        print(\"Customer bought:\",item)\n",
    "\n",
    "brought_items('Potaoes: 1 KG','Sugar: 500 g','Bananas: 1 Dozen','Milk 1: litre')\n"
   ]
  },
  {
   "cell_type": "code",
   "execution_count": null,
   "metadata": {},
   "outputs": [],
   "source": []
  }
 ],
 "metadata": {
  "kernelspec": {
   "display_name": "Python 3",
   "language": "python",
   "name": "python3"
  },
  "language_info": {
   "codemirror_mode": {
    "name": "ipython",
    "version": 3
   },
   "file_extension": ".py",
   "mimetype": "text/x-python",
   "name": "python",
   "nbconvert_exporter": "python",
   "pygments_lexer": "ipython3",
   "version": "3.7.4"
  }
 },
 "nbformat": 4,
 "nbformat_minor": 2
}
