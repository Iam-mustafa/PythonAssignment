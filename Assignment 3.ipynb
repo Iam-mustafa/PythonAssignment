{
 "cells": [
  {
   "cell_type": "code",
   "execution_count": 1,
   "metadata": {},
   "outputs": [
    {
     "name": "stdout",
     "output_type": "stream",
     "text": [
      "\"\n",
      "Select math operation:\n",
      "(1) + For addition (2) - For subtraction (3) * For multiplication (4) / For division (5) ** For power\n",
      "-\n",
      "Enter your first number: 5\n",
      "Enter your second number: 2\n",
      "5 - 2 = \n",
      "3\n"
     ]
    }
   ],
   "source": [
    "operation = input(\"\"\"\"\n",
    "Select math operation:\n",
    "(1) + For addition (2) - For subtraction (3) * For multiplication (4) / For division (5) ** For power\n",
    "\"\"\")\n",
    "\n",
    "number_1 = int(input(\"Enter your first number: \"))\n",
    "number_2 = int(input(\"Enter your second number: \"))\n",
    "\n",
    "if operation == \"+\":\n",
    "    print(\"{} + {} = \".format(number_1, number_2))\n",
    "    print(number_1 + number_2)\n",
    "\n",
    "elif operation == \"-\":\n",
    "    print(\"{} - {} = \".format(number_1, number_2))\n",
    "    print(number_1 - number_2)\n",
    "\n",
    "elif operation == \"*\":\n",
    "    print(\"{} * {} = \".format(number_1, number_2))\n",
    "    print(number_1 * number_2)\n",
    "\n",
    "elif operation == \"/\":\n",
    "    print(\"{} / {} = \".format(number_1, number_2))\n",
    "    print(number_1 / number_2)\n",
    "\n",
    "elif operation == \"**\":\n",
    "    print(\"{} ** {} = \".format(number_1, number_2))\n",
    "    print(number_1 ** number_2)\n",
    "\n",
    "else:\n",
    "    print(\"You have not typed a valid operator, please run the program again.\")\n"
   ]
  },
  {
   "cell_type": "code",
   "execution_count": 3,
   "metadata": {},
   "outputs": [
    {
     "name": "stdout",
     "output_type": "stream",
     "text": [
      "3 is a numeric value in the mentioned list\n",
      "101 is a numeric value in the mentioned list\n",
      "11.5 is a numeric value in the mentioned list\n",
      "5.3 is a numeric value in the mentioned list\n",
      "45 is a numeric value in the mentioned list\n",
      "6 is a numeric value in the mentioned list\n",
      "6.7 is a numeric value in the mentioned list\n"
     ]
    }
   ],
   "source": [
    "lst=[3,101,11.5,'Ansari',5.3,'Oslo',45,6,'Tier','Frost',6.7]\n",
    "for i in lst:\n",
    "    if type(i) == int:\n",
    "        print(i,\"is a numeric value in the mentioned list\")\n",
    "    elif type(i)==float: \n",
    "        print(i,\"is a numeric value in the mentioned list\")"
   ]
  },
  {
   "cell_type": "code",
   "execution_count": 4,
   "metadata": {},
   "outputs": [
    {
     "name": "stdout",
     "output_type": "stream",
     "text": [
      "enter key :Brothers\n",
      "enter value :2\n",
      "{'Brothers': '2'}\n"
     ]
    }
   ],
   "source": [
    "dict ={}\n",
    "k_input=input(\"enter key :\")\n",
    "v_input=input(\"enter value :\")\n",
    "\n",
    "dict.update({k_input:v_input})\n",
    "\n",
    "print(dict)\n"
   ]
  },
  {
   "cell_type": "code",
   "execution_count": 5,
   "metadata": {},
   "outputs": [
    {
     "name": "stdout",
     "output_type": "stream",
     "text": [
      "Total sum of the values in the dictionary:\n",
      "100\n"
     ]
    }
   ],
   "source": [
    "d={'A':60,'B':25,'C':15}\n",
    "print(\"Total sum of the values in the dictionary:\")\n",
    "print(sum(d.values()))"
   ]
  },
  {
   "cell_type": "code",
   "execution_count": 6,
   "metadata": {},
   "outputs": [
    {
     "name": "stdout",
     "output_type": "stream",
     "text": [
      "[7, 44, 56, 9]\n"
     ]
    }
   ],
   "source": [
    "lst = [ 7, 3, 44, 56, 67, 7, 44, 9, 88, 56, 9, 90, 37C\n",
    "      if uniqItems[x] == 1:\n",
    "         dupItems.append(x)\n",
    "      uniqItems[x] += 1\n",
    "print(dupItems)\n"
   ]
  },
  {
   "cell_type": "code",
   "execution_count": 8,
   "metadata": {},
   "outputs": [
    {
     "name": "stdout",
     "output_type": "stream",
     "text": [
      "Enter key to check:C\n",
      "Key is present and value of the key is:\n",
      "3\n"
     ]
    }
   ],
   "source": [
    "d={'A':0,'B':6,'C':3}\n",
    "key=input(\"Enter key to check:\")\n",
    "if key in d.keys():\n",
    "      print(\"Key is present and value of the key is:\")\n",
    "      print(d[key])\n",
    "else:\n",
    "      print(\"Key isn't present!\")\n"
   ]
  },
  {
   "cell_type": "code",
   "execution_count": null,
   "metadata": {},
   "outputs": [],
   "source": []
  }
 ],
 "metadata": {
  "kernelspec": {
   "display_name": "Python 3",
   "language": "python",
   "name": "python3"
  },
  "language_info": {
   "codemirror_mode": {
    "name": "ipython",
    "version": 3
   },
   "file_extension": ".py",
   "mimetype": "text/x-python",
   "name": "python",
   "nbconvert_exporter": "python",
   "pygments_lexer": "ipython3",
   "version": "3.7.4"
  }
 },
 "nbformat": 4,
 "nbformat_minor": 2
}
